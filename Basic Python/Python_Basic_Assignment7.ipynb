{
 "cells": [
  {
   "cell_type": "code",
   "execution_count": null,
   "metadata": {},
   "outputs": [],
   "source": [
    "#1 compilation"
   ]
  },
  {
   "cell_type": "code",
   "execution_count": null,
   "metadata": {},
   "outputs": [],
   "source": [
    "#2 so that no handling of backslash (escape character) is required explicitly in the given string"
   ]
  },
  {
   "cell_type": "code",
   "execution_count": 79,
   "metadata": {
    "scrolled": true
   },
   "outputs": [
    {
     "name": "stdout",
     "output_type": "stream",
     "text": [
      "<re.Match object; span=(0, 17), match='The rain in Spain'>\n",
      "The rain in Spain\n"
     ]
    }
   ],
   "source": [
    "#3\n",
    "import re\n",
    "txt = \"The rain in Spain in India in Kolkata\"\n",
    "x = re.search(\"^The.*Spain\", txt)\n",
    "print(x)\n",
    "print(x.group())\n",
    "\n",
    "# returns match object if match found else None\n"
   ]
  },
  {
   "cell_type": "code",
   "execution_count": null,
   "metadata": {},
   "outputs": [],
   "source": [
    "#4 matchobject.group()"
   ]
  },
  {
   "cell_type": "code",
   "execution_count": 27,
   "metadata": {},
   "outputs": [
    {
     "name": "stdout",
     "output_type": "stream",
     "text": [
      "111-222-3333\n",
      "111\n",
      "222-3333\n"
     ]
    }
   ],
   "source": [
    "#5 \n",
    "txt1=\"111-222-3333\"\n",
    "pattern=r'(\\d\\d\\d)-(\\d\\d\\d-\\d\\d\\d\\d)'\n",
    "y = re.search(pattern, txt1)\n",
    "print(y.group(0))#-------------111-222-3333 gives the whole string matching the pattern\n",
    "print(y.group(1))#-------------111  gives the 1st matching pattern\n",
    "print(y.group(2))#-------------222-3333 gives the 2nd matching pattern\n"
   ]
  },
  {
   "cell_type": "code",
   "execution_count": 38,
   "metadata": {},
   "outputs": [
    {
     "name": "stdout",
     "output_type": "stream",
     "text": [
      "<re.Match object; span=(0, 5), match='This\\\\'>\n"
     ]
    }
   ],
   "source": [
    "#6\n",
    "txt = \"This\\.\"\n",
    "x = re.search(\"This.\", txt)\n",
    "print(x)\n",
    "# using backslash with periods and paranthesis will work \\., \\(, and \\)"
   ]
  },
  {
   "cell_type": "code",
   "execution_count": 67,
   "metadata": {},
   "outputs": [
    {
     "name": "stdout",
     "output_type": "stream",
     "text": [
      "['123456789', '987654321']\n",
      "[('Nov  4 15:44:19 2020', '1749.424', 'process', 'ERROR', 'process', 'sample.c', '1234', 'comments')]\n"
     ]
    }
   ],
   "source": [
    "#7\n",
    "string = \"\"\"Hello my Number is 123456789 and \n",
    "             my friend's number is 987654321\"\"\"\n",
    "\n",
    "regex = '\\d+'             \n",
    "    \n",
    "match = re.findall(regex, string) \n",
    "print(match)\n",
    "\n",
    "\n",
    "reg_exp = r'^(\\w{3}\\s{2}\\d\\s\\d{2}:\\d{2}:\\d{2}\\s\\d{4})\\s\\[(\\d+\\.\\d+)\\]\\s(\\w+):\\s(\\w+):\\s\\[(\\w+)\\]\\s(\\w+\\.\\w)(?:,' \\\n",
    "           r'line\\s)(\\d+)(?:\\s-\\s)(\\w+)$'\n",
    "log = 'Nov  4 15:44:19 2020 [1749.424] process: ERROR: [process] sample.c,line 1234 - comments'\n",
    "output = re.findall(reg_exp, log)\n",
    "print(output)\n",
    "\n",
    "#having one of more group in pattern"
   ]
  },
  {
   "cell_type": "code",
   "execution_count": 65,
   "metadata": {},
   "outputs": [
    {
     "name": "stdout",
     "output_type": "stream",
     "text": [
      "[('Nov  4 15:44:19 2020', '1749.424', 'process', 'ERROR', 'process', 'sample.c', '1234', 'comments')]\n"
     ]
    }
   ],
   "source": [
    "#8\n",
    "Either or\n"
   ]
  },
  {
   "cell_type": "code",
   "execution_count": null,
   "metadata": {},
   "outputs": [],
   "source": [
    "#9\n",
    "Any character other than newline character"
   ]
  },
  {
   "cell_type": "code",
   "execution_count": null,
   "metadata": {},
   "outputs": [],
   "source": [
    "#10\n",
    "+----one or more occurrences \n",
    "*----zero or more occurrences"
   ]
  },
  {
   "cell_type": "code",
   "execution_count": 82,
   "metadata": {},
   "outputs": [
    {
     "name": "stdout",
     "output_type": "stream",
     "text": [
      "['hello', 'world']\n"
     ]
    }
   ],
   "source": [
    "#11\n",
    "\n",
    "pattern='\\w{4,5}'\n",
    "str=\"helloworld\"\n",
    "a=re.findall(pattern,str)\n",
    "print(a)\n",
    "\n",
    "#{4}---------starting from 1 and ending to 4th instance\n",
    "#{4,5}-------starting from 4 and ending to 5th instance\n",
    "\n"
   ]
  },
  {
   "cell_type": "code",
   "execution_count": null,
   "metadata": {},
   "outputs": [],
   "source": [
    "#12\n",
    "\\d=match digit\n",
    "\\w=match any word character\n",
    "\\s=match space"
   ]
  },
  {
   "cell_type": "code",
   "execution_count": null,
   "metadata": {},
   "outputs": [],
   "source": [
    "#13 \n",
    "\n",
    "\\D=matches any non-digit character\n",
    "\\W=matches any non-word character\n",
    "\\S=matches any non-white space character"
   ]
  },
  {
   "cell_type": "code",
   "execution_count": null,
   "metadata": {},
   "outputs": [],
   "source": [
    "#14\n",
    ".* performs a greedy match, and the .*? performs a nongreedy match"
   ]
  },
  {
   "cell_type": "code",
   "execution_count": null,
   "metadata": {},
   "outputs": [],
   "source": [
    "#15\n",
    "[0-9a-z]"
   ]
  },
  {
   "cell_type": "code",
   "execution_count": null,
   "metadata": {},
   "outputs": [],
   "source": [
    "#16\n",
    "setting the re.IGNORECASE attribute in compile function"
   ]
  },
  {
   "cell_type": "code",
   "execution_count": null,
   "metadata": {},
   "outputs": [],
   "source": [
    "#17\n",
    "dot matches single character except new line\n",
    "the dot will also match newline characters if re.DOTALL is passed"
   ]
  },
  {
   "cell_type": "code",
   "execution_count": 84,
   "metadata": {},
   "outputs": [
    {
     "name": "stdout",
     "output_type": "stream",
     "text": [
      "X drummers, X pipers, five rings, Xhen\n"
     ]
    }
   ],
   "source": [
    "#18\n",
    "numRegex = re.compile('\\d+')\n",
    "str=numRegex.sub('X', '11 drummers, 10 pipers, five rings, 4hen')\n",
    "print(str)#--X drummers, X pipers, five rings, Xhen"
   ]
  },
  {
   "cell_type": "code",
   "execution_count": null,
   "metadata": {},
   "outputs": [],
   "source": [
    "#19\n",
    "allows us to add whitespace and comments to the string passed"
   ]
  },
  {
   "cell_type": "code",
   "execution_count": null,
   "metadata": {},
   "outputs": [],
   "source": [
    "#20"
   ]
  }
 ],
 "metadata": {
  "kernelspec": {
   "display_name": "Python 3",
   "language": "python",
   "name": "python3"
  },
  "language_info": {
   "codemirror_mode": {
    "name": "ipython",
    "version": 3
   },
   "file_extension": ".py",
   "mimetype": "text/x-python",
   "name": "python",
   "nbconvert_exporter": "python",
   "pygments_lexer": "ipython3",
   "version": "3.8.5"
  }
 },
 "nbformat": 4,
 "nbformat_minor": 4
}
