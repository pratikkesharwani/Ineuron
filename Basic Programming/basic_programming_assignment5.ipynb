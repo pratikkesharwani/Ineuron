{
 "cells": [
  {
   "cell_type": "code",
   "execution_count": 2,
   "metadata": {},
   "outputs": [
    {
     "name": "stdout",
     "output_type": "stream",
     "text": [
      "enter the number1 4\n",
      "enter the number2 5\n",
      "LCM is  20\n"
     ]
    }
   ],
   "source": [
    "#1\n",
    "num1 = int(input(\"enter the number1 \"))\n",
    "num2 = int(input(\"enter the number2 \"))\n",
    "if(num1 > num2 ):  \n",
    "    max = num1\n",
    "else:\n",
    "    max = num2\n",
    "while(True):\n",
    "    if(max % num1 == 0 and max % num2 == 0):   \n",
    "        print(\"LCM is \",max)\n",
    "        break;\n",
    "    max= max+ 1"
   ]
  },
  {
   "cell_type": "code",
   "execution_count": 7,
   "metadata": {},
   "outputs": [
    {
     "name": "stdout",
     "output_type": "stream",
     "text": [
      "enter the number1 5\n",
      "enter the number2 15\n",
      "HCF is 5\n"
     ]
    }
   ],
   "source": [
    "#2\n",
    "num1 = int(input(\"enter the number1 \"))\n",
    "num2 = int(input(\"enter the number2 \"))\n",
    "i = 1\n",
    "while(i <= num1 and i <= num2):\n",
    "    if(num1 % i == 0 and num2 % i == 0):\n",
    "        hcf = i\n",
    "    i = i + 1\n",
    "print(\"HCF is\", hcf)"
   ]
  },
  {
   "cell_type": "code",
   "execution_count": 9,
   "metadata": {},
   "outputs": [
    {
     "name": "stdout",
     "output_type": "stream",
     "text": [
      "enter the number 10\n",
      "binary of decimal number is  0b1010\n",
      "octal of decimal number is  0o12\n",
      "hexadecimal of decimal number is  0xa\n"
     ]
    }
   ],
   "source": [
    "#3\n",
    "num = int(input(\"enter the number \"))\n",
    "print(\"binary of decimal number is \",bin(num))\n",
    "print(\"octal of decimal number is \",oct(num))\n",
    "print(\"hexadecimal of decimal number is \",hex(num))"
   ]
  },
  {
   "cell_type": "code",
   "execution_count": 12,
   "metadata": {},
   "outputs": [
    {
     "name": "stdout",
     "output_type": "stream",
     "text": [
      "enter the character a\n",
      "ascii of character is  97\n"
     ]
    }
   ],
   "source": [
    "#4\n",
    "char = input(\"enter the character \")\n",
    "print(\"ascii of character is \",ord(char))"
   ]
  },
  {
   "cell_type": "code",
   "execution_count": 17,
   "metadata": {},
   "outputs": [
    {
     "name": "stdout",
     "output_type": "stream",
     "text": [
      "enter the number1 3\n",
      "enter the number2 7\n",
      "enter the operator 3\n",
      "invalid operator\n"
     ]
    }
   ],
   "source": [
    "num1 = int(input(\"enter the number1 \"))\n",
    "num2 = int(input(\"enter the number2 \"))\n",
    "oper = input(\"enter the operator \")\n",
    "if oper == '+':\n",
    "    print(\"sum is \",num1+num2)\n",
    "elif oper == '-':\n",
    "    print(\"subtraction is \",num1-num2)\n",
    "elif oper == '/':\n",
    "    print(\"division is \",num1/num2)\n",
    "elif oper == '*':\n",
    "    print(\"multiplication is \",num1*num2)\n",
    "else:\n",
    "    print(\"invalid operator\")  "
   ]
  }
 ],
 "metadata": {
  "kernelspec": {
   "display_name": "Python 3",
   "language": "python",
   "name": "python3"
  },
  "language_info": {
   "codemirror_mode": {
    "name": "ipython",
    "version": 3
   },
   "file_extension": ".py",
   "mimetype": "text/x-python",
   "name": "python",
   "nbconvert_exporter": "python",
   "pygments_lexer": "ipython3",
   "version": "3.8.5"
  }
 },
 "nbformat": 4,
 "nbformat_minor": 4
}
