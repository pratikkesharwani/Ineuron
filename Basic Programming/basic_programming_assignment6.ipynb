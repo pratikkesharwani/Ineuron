{
 "cells": [
  {
   "cell_type": "code",
   "execution_count": 2,
   "id": "bf74f026",
   "metadata": {},
   "outputs": [
    {
     "name": "stdout",
     "output_type": "stream",
     "text": [
      "enter the series range: 10\n",
      "0\n",
      "1\n",
      "1\n",
      "2\n",
      "3\n",
      "5\n",
      "8\n",
      "13\n",
      "21\n",
      "34\n"
     ]
    }
   ],
   "source": [
    "#1\n",
    "def fibo_recursion(n):\n",
    "    if n <= 1:\n",
    "        return n\n",
    "    else:\n",
    "        return(fibo_recursion(n-1) + fibo_recursion(n-2))\n",
    "\n",
    "n = int(input(\"enter the series range: \"))\n",
    "if n <= 0:\n",
    "    print(\"Plese enter a positive value\")\n",
    "else:\n",
    "    for i in range(n):\n",
    "        print(fibo_recursion(i))"
   ]
  },
  {
   "cell_type": "code",
   "execution_count": 4,
   "id": "7ae2e443",
   "metadata": {},
   "outputs": [
    {
     "name": "stdout",
     "output_type": "stream",
     "text": [
      "enter the value for factorial: 6\n",
      "720\n"
     ]
    }
   ],
   "source": [
    "#2\n",
    "def fac_recursion(n):\n",
    "    if n == 1:\n",
    "        return 1\n",
    "    else:\n",
    "        return(n*fac_recursion(n-1))\n",
    "\n",
    "n = int(input(\"enter the value for factorial: \"))\n",
    "if n <= 0:\n",
    "    print(\"Plese enter a positive value\")\n",
    "else:\n",
    "    print(fac_recursion(n))\n"
   ]
  },
  {
   "cell_type": "code",
   "execution_count": 5,
   "id": "6cd92f26",
   "metadata": {},
   "outputs": [
    {
     "name": "stdout",
     "output_type": "stream",
     "text": [
      "Enter height in cm: 182\n",
      "Enter weight in kg: 50\n",
      "BMI is:  15.094795314575533\n"
     ]
    }
   ],
   "source": [
    "#3\n",
    "height = float(input(\"Enter height in cm: \"))\n",
    "weight = float(input(\"Enter weight in kg: \"))\n",
    "print(\"BMI is: \",weight / (height/100)**2)"
   ]
  },
  {
   "cell_type": "code",
   "execution_count": 7,
   "id": "e446734e",
   "metadata": {},
   "outputs": [
    {
     "name": "stdout",
     "output_type": "stream",
     "text": [
      "enter the number for finding log5\n",
      "Log of number is 1.6094379124341003\n"
     ]
    }
   ],
   "source": [
    "#4\n",
    "import math\n",
    "num=int(input(\"enter the number for finding log: \"))\n",
    "print(\"Log of number is\",math.log(num))"
   ]
  },
  {
   "cell_type": "code",
   "execution_count": 10,
   "id": "4ac76d27",
   "metadata": {},
   "outputs": [
    {
     "name": "stdout",
     "output_type": "stream",
     "text": [
      "enter range of number4\n",
      "cube sum of first n natural number  100\n"
     ]
    }
   ],
   "source": [
    "#5\n",
    "sum=0\n",
    "n=int(input(\"enter range of number\"))\n",
    "for i in range(1,n+1):\n",
    "    sum=sum+(i*i*i)\n",
    "print(\"cube sum of first n natural number \",sum)    "
   ]
  }
 ],
 "metadata": {
  "kernelspec": {
   "display_name": "Python 3",
   "language": "python",
   "name": "python3"
  },
  "language_info": {
   "codemirror_mode": {
    "name": "ipython",
    "version": 3
   },
   "file_extension": ".py",
   "mimetype": "text/x-python",
   "name": "python",
   "nbconvert_exporter": "python",
   "pygments_lexer": "ipython3",
   "version": "3.8.8"
  }
 },
 "nbformat": 4,
 "nbformat_minor": 5
}
