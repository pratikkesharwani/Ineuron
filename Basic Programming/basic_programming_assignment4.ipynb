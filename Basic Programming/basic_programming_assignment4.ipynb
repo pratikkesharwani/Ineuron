{
 "cells": [
  {
   "cell_type": "code",
   "execution_count": 4,
   "metadata": {},
   "outputs": [
    {
     "name": "stdout",
     "output_type": "stream",
     "text": [
      "enter the number 3\n",
      "factorial of number is  6\n"
     ]
    }
   ],
   "source": [
    "#1\n",
    "\n",
    "try:\n",
    "    f=1\n",
    "    num=int(input(\"enter the number \"))\n",
    "    for i in range(1,num+1):\n",
    "        f=f*i\n",
    "    print(\"factorial of number is \",f)\n",
    "        \n",
    "except:\n",
    "    print(\"Number is invalid\")"
   ]
  },
  {
   "cell_type": "code",
   "execution_count": 5,
   "metadata": {},
   "outputs": [
    {
     "name": "stdout",
     "output_type": "stream",
     "text": [
      "enter the number 4\n",
      "4 * 1 = 4\n",
      "4 * 2 = 8\n",
      "4 * 3 = 12\n",
      "4 * 4 = 16\n",
      "4 * 5 = 20\n",
      "4 * 6 = 24\n",
      "4 * 7 = 28\n",
      "4 * 8 = 32\n",
      "4 * 9 = 36\n",
      "4 * 10 = 40\n"
     ]
    }
   ],
   "source": [
    "#2\n",
    "try:\n",
    "    f=1\n",
    "    num=int(input(\"enter the number \"))\n",
    "    for i in range(1,11):\n",
    "        print(num, \"*\",i,\"=\",num*i)        \n",
    "except:\n",
    "    print(\"Number is invalid\")"
   ]
  },
  {
   "cell_type": "code",
   "execution_count": 25,
   "metadata": {},
   "outputs": [
    {
     "name": "stdout",
     "output_type": "stream",
     "text": [
      "enter the number 20\n",
      "0\n",
      "1\n",
      "1\n",
      "2\n",
      "3\n",
      "5\n",
      "8\n",
      "13\n",
      "21\n",
      "34\n"
     ]
    }
   ],
   "source": [
    "#3\n",
    "try:\n",
    "    a,b=0,1\n",
    "    num=int(input(\"enter the number \"))\n",
    "    while i < num:\n",
    "        print(a) \n",
    "        c=a+b\n",
    "        a=b\n",
    "        b=c\n",
    "        i=i+1           \n",
    "except:\n",
    "    print(\"Number is invalid\")"
   ]
  },
  {
   "cell_type": "code",
   "execution_count": 17,
   "metadata": {},
   "outputs": [
    {
     "name": "stdout",
     "output_type": "stream",
     "text": [
      "enter the number 407\n",
      "407 is an Armstrong number\n"
     ]
    }
   ],
   "source": [
    "#4\n",
    "try:\n",
    "    num=int(input(\"enter the number \"))\n",
    "    sum = 0\n",
    "    temp = num\n",
    "    while temp > 0:\n",
    "        digit = temp % 10\n",
    "        sum += digit ** 3\n",
    "        temp = temp // 10\n",
    "        \n",
    "    if num == sum:\n",
    "        print(num,\"is an Armstrong number\")\n",
    "    else:\n",
    "        print(num,\"is not an Armstrong number\")\n",
    "except:\n",
    "    print(\"Number is invalid\")"
   ]
  },
  {
   "cell_type": "code",
   "execution_count": 18,
   "metadata": {},
   "outputs": [
    {
     "name": "stdout",
     "output_type": "stream",
     "text": [
      "1\n",
      "64\n",
      "125\n",
      "153\n",
      "216\n",
      "370\n",
      "371\n",
      "407\n",
      "729\n"
     ]
    }
   ],
   "source": [
    "#5\n",
    "\n",
    "try:\n",
    "    for num in range(1,1000):\n",
    "        temp=num\n",
    "        sum=0\n",
    "        while temp > 0:\n",
    "            digit = temp % 10\n",
    "            sum += digit ** 3\n",
    "            temp = temp // 10\n",
    "            if sum == num:\n",
    "                print (num)\n",
    "except:\n",
    "    print(\"Number is invalid\")"
   ]
  },
  {
   "cell_type": "code",
   "execution_count": 27,
   "metadata": {},
   "outputs": [
    {
     "name": "stdout",
     "output_type": "stream",
     "text": [
      "enter the number 10\n",
      "sum of natural number  55.0\n"
     ]
    }
   ],
   "source": [
    "#6\n",
    "try:\n",
    "    sum=0\n",
    "    num=int(input(\"enter the number \"))\n",
    "    sum=(num*(num+1))/2\n",
    "    print(\"sum of natural number \",sum)\n",
    "        \n",
    "except:\n",
    "    print(\"Number is invalid\")"
   ]
  }
 ],
 "metadata": {
  "kernelspec": {
   "display_name": "Python 3",
   "language": "python",
   "name": "python3"
  },
  "language_info": {
   "codemirror_mode": {
    "name": "ipython",
    "version": 3
   },
   "file_extension": ".py",
   "mimetype": "text/x-python",
   "name": "python",
   "nbconvert_exporter": "python",
   "pygments_lexer": "ipython3",
   "version": "3.8.5"
  }
 },
 "nbformat": 4,
 "nbformat_minor": 4
}
