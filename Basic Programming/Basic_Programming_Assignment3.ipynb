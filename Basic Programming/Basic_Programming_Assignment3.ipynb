#1
try:
    num=int(input("enter the number "))
    if num > 0:
        print("Number is positive")
    elif num < 0:
        print("Number is Negative")
    else:
        print("Number is zero")
except:
    print("Number is invalid")
